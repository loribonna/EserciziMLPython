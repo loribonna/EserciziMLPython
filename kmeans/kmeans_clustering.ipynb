{
  "nbformat": 4,
  "nbformat_minor": 0,
  "metadata": {
    "colab": {
      "name": "Untitled0.ipynb",
      "version": "0.3.2",
      "provenance": [],
      "collapsed_sections": []
    },
    "kernelspec": {
      "name": "python3",
      "display_name": "Python 3"
    }
  },
  "cells": [
    {
      "metadata": {
        "id": "v0igEIOMaEIR",
        "colab_type": "code",
        "colab": {
          "base_uri": "https://localhost:8080/",
          "height": 34
        },
        "outputId": "7ad470e2-4f73-4d32-9531-e3c82b5cc517"
      },
      "cell_type": "code",
      "source": [
        "!pip3 install googledrivedownloader"
      ],
      "execution_count": 62,
      "outputs": [
        {
          "output_type": "stream",
          "text": [
            "Requirement already satisfied: googledrivedownloader in /usr/local/lib/python3.6/dist-packages (0.3)\n"
          ],
          "name": "stdout"
        }
      ]
    },
    {
      "metadata": {
        "id": "bXacdhTDZi8g",
        "colab_type": "code",
        "colab": {}
      },
      "cell_type": "code",
      "source": [
        "import numpy as np\n",
        "from numpy.linalg import eigh\n",
        "from numpy.matlib import repmat\n",
        "from sklearn.datasets import make_moons\n",
        "from scipy.linalg import fractional_matrix_power\n",
        "import cv2\n",
        "\n",
        "import matplotlib.pyplot as plt\n",
        "%matplotlib inline\n",
        "from google_drive_downloader import GoogleDriveDownloader"
      ],
      "execution_count": 0,
      "outputs": []
    },
    {
      "metadata": {
        "id": "cKCGHkFoSYex",
        "colab_type": "code",
        "colab": {}
      },
      "cell_type": "code",
      "source": [
        "\n",
        "GoogleDriveDownloader.download_file_from_google_drive(file_id='1OOsfISGs9K0cefqXMcaQVLcRkEcwEW2K',\n",
        "                                                      dest_path='./img/clustering.zip',\n",
        "                                                      unzip=True)\n",
        "\n",
        "\n",
        "def gaussians_dataset(n_gaussian, n_points, mus, stds):\n",
        "    \"\"\"\n",
        "    Provides a dataset made by several gaussians.\n",
        "\n",
        "    Parameters\n",
        "    ----------\n",
        "    n_gaussian : int\n",
        "        The number of desired gaussian components.\n",
        "    n_points : list\n",
        "        A list of cardinality of points (one for each gaussian).\n",
        "    mus : list\n",
        "        A list of means (one for each gaussian, e.g. [[1, 1], [3, 1]).\n",
        "    stds : list\n",
        "        A list of stds (one for each gaussian, e.g. [[1, 1], [2, 2]).\n",
        "\n",
        "    Returns\n",
        "    -------\n",
        "    tuple\n",
        "        a tuple like:\n",
        "            data ndarray shape: (n_samples, dims).\n",
        "            class ndarray shape: (n_samples,).\n",
        "    \"\"\"\n",
        "\n",
        "    assert n_gaussian == len(mus) == len(stds) == len(n_points)\n",
        "\n",
        "    data = []\n",
        "    cl = []\n",
        "    for i in range(0, n_gaussian):\n",
        "\n",
        "        mu = mus[i]\n",
        "        std = stds[i]\n",
        "        n_pt = n_points[i]\n",
        "\n",
        "        cov = np.diag(std)\n",
        "\n",
        "        data.append(np.random.multivariate_normal(mu, cov, size=n_pt))\n",
        "        cl.append(np.ones(shape=n_pt) * i)\n",
        "\n",
        "    data = np.concatenate(data, axis=0)\n",
        "    cl = np.concatenate(cl, axis=0)\n",
        "\n",
        "    return data, cl\n",
        "\n",
        "\n",
        "def two_moon_dataset(n_samples=100, shuffle=True, noise=None, random_state=None):\n",
        "    \"\"\"\n",
        "    Make two interleaving half circles\n",
        "\n",
        "    A simple toy dataset to visualize clustering and classification\n",
        "    algorithms.\n",
        "\n",
        "    Parameters\n",
        "    ----------\n",
        "    n_samples : int, optional (default=100)\n",
        "        The total number of points generated.\n",
        "\n",
        "    shuffle : bool, optional (default=True)\n",
        "        Whether to shuffle the samples.\n",
        "\n",
        "    noise : double or None (default=None)\n",
        "        Standard deviation of Gaussian noise added to the data.\n",
        "\n",
        "    Read more in the :ref:`User Guide <sample_generators>`.\n",
        "\n",
        "    Returns\n",
        "    -------\n",
        "    X : array of shape [n_samples, 2]\n",
        "        The generated samples.\n",
        "\n",
        "    y : array of shape [n_samples]\n",
        "        The integer labels (0 or 1) for class membership of each sample.\n",
        "    \"\"\"\n",
        "    return make_moons(n_samples, shuffle, noise, random_state)\n",
        "\n",
        "\n",
        "def spirals(n_points, noise=.5):\n",
        "    \"\"\"\n",
        "    Makes two interleaved spirals\n",
        "\n",
        "    Parameters\n",
        "    ----------\n",
        "    n_points: int\n",
        "        number of points for each spiral\n",
        "    noise: float\n",
        "        the amount of dispersion of each spiral\n",
        "\n",
        "    Returns\n",
        "    -------\n",
        "    X : array of shape [n_samples, 2]\n",
        "        The generated samples.\n",
        "\n",
        "    y : array of shape [n_samples]\n",
        "        The integer labels (0 or 1) for class membership of each sample.\n",
        "    \"\"\"\n",
        "\n",
        "    n = np.sqrt(np.random.rand(n_points, 1)) * 780 * (2 * np.pi) / 360\n",
        "    d1x = -np.cos(n) * n + np.random.rand(n_points, 1) * noise\n",
        "    d1y = np.sin(n) * n + np.random.rand(n_points, 1) * noise\n",
        "    return (np.vstack((np.hstack((d1x, d1y)), np.hstack((-d1x, -d1y)))),\n",
        "            np.hstack((np.zeros(n_points), np.ones(n_points))))\n"
      ],
      "execution_count": 0,
      "outputs": []
    },
    {
      "metadata": {
        "id": "tTxG-QXuaSc-",
        "colab_type": "code",
        "colab": {}
      },
      "cell_type": "code",
      "source": [
        "def kmeans(data, n_cl, verbose=True):\n",
        "    \"\"\"\n",
        "    Kmeans algorithm.\n",
        "    \n",
        "    Parameters\n",
        "    ----------\n",
        "    data: ndarray\n",
        "        data to partition, has shape (n_samples, dimensionality).\n",
        "    n_cl: int\n",
        "        number of clusters.\n",
        "    verbose: bool\n",
        "        whether or not to plot assignment at each iteration (default is True).\n",
        "\n",
        "    Returns\n",
        "    -------\n",
        "    ndarray\n",
        "        computed assignment. Has shape (n_samples,)\n",
        "    \"\"\"\n",
        "    n_samples, dim = data.shape\n",
        "    \n",
        "    # YOUR CODE GOES HERE!!!!\n",
        "    # -------------------------------------------------------\n",
        "    # Replace this line with the actual kmeans implementation\n",
        "    result = np.random.randint(0, n_cl, n_samples)\n",
        "    # -------------------------------------------------------\n",
        "\n",
        "    return result\n"
      ],
      "execution_count": 0,
      "outputs": []
    },
    {
      "metadata": {
        "id": "aU_XJHmYaY3x",
        "colab_type": "code",
        "colab": {}
      },
      "cell_type": "code",
      "source": [
        "def main_kmeans_gaussian():\n",
        "    \"\"\"\n",
        "    Main function to run kmeans the synthetic gaussian dataset.\n",
        "    \"\"\"\n",
        "\n",
        "    # generate the dataset\n",
        "    data, cl = gaussians_dataset(3, [100, 100, 70], [[1, 1], [-4, 6], [8, 8]], [[1, 1], [3, 3], [1, 1]])\n",
        "\n",
        "    # visualize the dataset\n",
        "    fig, ax = plt.subplots(1, 2)\n",
        "    ax[0].scatter(data[:, 0], data[:, 1], c=cl, s=40, cmap='jet')\n",
        "\n",
        "    # solve kmeans optimization\n",
        "    labels = kmeans(data, n_cl=3, verbose=True)\n",
        "\n",
        "    # visualize results\n",
        "    ax[1].scatter(data[:, 0], data[:, 1], c=labels, s=40, cmap='jet')\n",
        "\n",
        "\n",
        "def main_kmeans_img(img_path):\n",
        "    \"\"\"\n",
        "    Main function to run kmeans for image segmentation.\n",
        "    \n",
        "    Parameters\n",
        "    ----------\n",
        "    img_path: str\n",
        "        Path of the image to load and segment.\n",
        "\n",
        "    Returns\n",
        "    -------\n",
        "    None\n",
        "    \"\"\"\n",
        "\n",
        "    # load the image\n",
        "    img = np.float32(cv2.imread(img_path))\n",
        "    h, w, c = img.shape\n",
        "\n",
        "    # visualize image\n",
        "    fig, ax = plt.subplots(1, 2)\n",
        "    ax[0].imshow(cv2.cvtColor(img, cv2.COLOR_BGR2RGB).astype(np.uint8))\n",
        "    ax[0].axis('off')\n",
        "\n",
        "    # add coordinates\n",
        "    row_indexes = np.arange(0, h)\n",
        "    col_indexes = np.arange(0, w)\n",
        "    coordinates = np.zeros(shape=(h, w, 2))\n",
        "    coordinates[..., 0] = repmat(row_indexes, w, 1).T\n",
        "    coordinates[..., 1] = repmat(col_indexes, h, 1)\n",
        "\n",
        "    data = np.concatenate((img, coordinates), axis=-1)\n",
        "    data = np.reshape(data, newshape=(w * h, 5))\n",
        "\n",
        "    # solve kmeans optimization\n",
        "    labels = kmeans(data, n_cl=2, verbose=False)\n",
        "    ax[1].imshow(np.reshape(labels, (h, w)), cmap='hot')\n",
        "    ax[1].axis('off')"
      ],
      "execution_count": 0,
      "outputs": []
    },
    {
      "metadata": {
        "id": "BwpYYSa3ahKv",
        "colab_type": "code",
        "colab": {
          "base_uri": "https://localhost:8080/",
          "height": 265
        },
        "outputId": "a7109c92-2100-4dd0-dfe0-e99e67fc5023"
      },
      "cell_type": "code",
      "source": [
        "    #main_kmeans_img('img/emma.png')\n",
        "    main_kmeans_gaussian()"
      ],
      "execution_count": 68,
      "outputs": [
        {
          "output_type": "display_data",
          "data": {
            "image/png": "[encoded data removed]",
            "text/plain": [
              "<matplotlib.figure.Figure at 0x7f2f1fe5e2b0>"
            ]
          },
          "metadata": {
            "tags": []
          }
        }
      ]
    }
  ]
}